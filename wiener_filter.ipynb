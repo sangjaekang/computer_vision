{
 "cells": [
  {
   "cell_type": "code",
   "execution_count": null,
   "metadata": {
    "collapsed": false
   },
   "outputs": [],
   "source": [
    "import numpy as np\n",
    "from matplotlib import pyplot as plt\n",
    "import cv2\n",
    "import seaborn as sns"
   ]
  },
  {
   "cell_type": "code",
   "execution_count": null,
   "metadata": {
    "collapsed": false
   },
   "outputs": [],
   "source": [
    "from skimage import color, data, restoration\n",
    "from scipy.signal import convolve2d"
   ]
  },
  {
   "cell_type": "code",
   "execution_count": null,
   "metadata": {
    "collapsed": false
   },
   "outputs": [],
   "source": [
    "img = cv2.imread('data/SampleImage.jpg',-1)"
   ]
  },
  {
   "cell_type": "code",
   "execution_count": null,
   "metadata": {
    "collapsed": false
   },
   "outputs": [],
   "source": [
    "# blur_img_noise = blur_img + 0.1 * img.std() * np.random.standard_normal(img.shape)"
   ]
  },
  {
   "cell_type": "code",
   "execution_count": null,
   "metadata": {
    "collapsed": true
   },
   "outputs": [],
   "source": [
    "def no_axis(axes):\n",
    "    assert isinstance(axes, list)\n",
    "    for ax in axes:\n",
    "        ax.axes.get_xaxis().set_visible(False)\n",
    "        ax.axes.get_yaxis().set_visible(False)"
   ]
  },
  {
   "cell_type": "code",
   "execution_count": null,
   "metadata": {
    "collapsed": true
   },
   "outputs": [],
   "source": [
    "def image_display(img, title=None):\n",
    "    if title is None:\n",
    "        title = \"image\"\n",
    "    cv2.imshow(title, img)\n",
    "    cv2.waitKey(0)\n",
    "    cv2.destroyAllWindows()"
   ]
  },
  {
   "cell_type": "markdown",
   "metadata": {},
   "source": [
    "## [1] scikit-image.restoration.wiener 이용"
   ]
  },
  {
   "cell_type": "code",
   "execution_count": null,
   "metadata": {
    "collapsed": false
   },
   "outputs": [],
   "source": [
    "from skimage import color, data, restoration\n",
    "img = color.rgb2gray(data.astronaut())\n",
    "from scipy.signal import convolve2d\n",
    "psf = np.ones((5, 5)) / 25\n",
    "blur_img = convolve2d(img, psf, 'full')\n",
    "blur_img_noise = blur_img + 0.1 * blur_img.std() * np.random.standard_normal(blur_img.shape)\n",
    "deconvolved_img = restoration.wiener(blur_img_noise, psf, 0.1)"
   ]
  },
  {
   "cell_type": "code",
   "execution_count": null,
   "metadata": {
    "collapsed": false
   },
   "outputs": [],
   "source": [
    "image_display(img, 'original')\n",
    "image_display(blur_img, 'blur')\n",
    "image_display(deconvolved_img, 'ret')"
   ]
  },
  {
   "cell_type": "markdown",
   "metadata": {},
   "source": [
    "## [2] numpy fourier transform 이용"
   ]
  },
  {
   "cell_type": "code",
   "execution_count": null,
   "metadata": {
    "collapsed": true
   },
   "outputs": [],
   "source": [
    "import numpy as np\n",
    "from numpy.fft import fft2, ifft2\n",
    "\n",
    "def wiener_filter(img, kernel, K = 10):\n",
    "    dummy = np.copy(img)\n",
    "    kernel = np.pad(kernel, [(0, dummy.shape[0] - kernel.shape[0]), (0, dummy.shape[1] - kernel.shape[1])], 'constant')\n",
    "    # Fourier Transform\n",
    "    dummy = fft2(dummy)\n",
    "    kernel = fft2(kernel)\n",
    "    kernel = np.conj(kernel) / (np.abs(kernel) ** 2 + K)\n",
    "    dummy = dummy * kernel\n",
    "    dummy = np.abs(ifft2(dummy))\n",
    "    return np.uint8(dummy)"
   ]
  },
  {
   "cell_type": "code",
   "execution_count": null,
   "metadata": {
    "collapsed": true
   },
   "outputs": [],
   "source": [
    "from scipy.signal import gaussian, convolve2d, deconvolve\n",
    "from scipy.ndimage import convolve\n",
    "\n",
    "def blur(img, mode = 'box', block_size = 3):\n",
    "    # mode = 'box' or 'gaussian' or 'motion'\n",
    "    dummy = np.copy(img)\n",
    "    if mode == 'box':\n",
    "        h = np.ones((block_size, block_size)) / block_size ** 2\n",
    "    elif mode == 'gaussian':\n",
    "        h = gaussian(block_size, block_size / 3).reshape(block_size, 1)\n",
    "        h = np.dot(h, h.transpose())\n",
    "        h /= np.sum(h)\n",
    "    elif mode == 'motion':\n",
    "        h = np.eye(block_size) / block_size\n",
    "    dummy = convolve2d(dummy, h, mode = 'valid')\n",
    "    return np.uint8(dummy), h\n",
    "\n",
    "def gaussian_add(img, sigma = 5):\n",
    "    dummy = np.copy(img).astype(float)\n",
    "    gauss = np.random.normal(0, sigma, np.shape(img))\n",
    "    # Additive Noise\n",
    "    dummy = np.round(gauss + dummy)\n",
    "    # Saturate lower bound\n",
    "    dummy[np.where(dummy < 0)] = 0\n",
    "    # Saturate upper bound\n",
    "    dummy[np.where(dummy > 255)] = 255\n",
    "    return np.uint8(dummy)"
   ]
  },
  {
   "cell_type": "code",
   "execution_count": null,
   "metadata": {
    "collapsed": false
   },
   "outputs": [],
   "source": [
    "img = cv2.imread('./data/SampleImage_grey.jpg', -1)\n",
    "# _img = cv2.cvtColor(img, cv2.COLOR_BGR2RGB)"
   ]
  },
  {
   "cell_type": "code",
   "execution_count": null,
   "metadata": {
    "collapsed": false
   },
   "outputs": [],
   "source": [
    "psf = np.ones((5,5))/25\n",
    "blur_img = np.copy(img)\n",
    "blur_img= convolve2d(img, psf, 'full')\n",
    "blur_img = convolve(img, psf, mode='wrap')\n",
    "ret_img = wiener_filter(blur_img, psf, K=0.4)"
   ]
  },
  {
   "cell_type": "code",
   "execution_count": null,
   "metadata": {
    "collapsed": false
   },
   "outputs": [],
   "source": [
    "image_display(img, 'original')\n",
    "image_display(blur_img, 'blur')\n",
    "image_display(ret_img, 'ret')"
   ]
  },
  {
   "cell_type": "markdown",
   "metadata": {},
   "source": [
    "## [Additional] fft"
   ]
  },
  {
   "cell_type": "code",
   "execution_count": null,
   "metadata": {
    "collapsed": false
   },
   "outputs": [],
   "source": [
    "from scipy import fftpack, stats\n",
    "\n",
    "def _convolve(star, psf):\n",
    "    star_fft = fftpack.fftshift(fftpack.fftn(star))\n",
    "    psf_fft = fftpack.fftshift(fftpack.fftn(psf))\n",
    "    return fftpack.fftshift(fftpack.ifftn(fftpack.ifftshift(star_fft*psf_fft)))\n",
    "\n",
    "def _deconvolve(star, psf):\n",
    "    star_fft = fftpack.fftshift(fftpack.fftn(star))\n",
    "    psf_fft = fftpack.fftshift(fftpack.fftn(psf))\n",
    "    return fftpack.fftshift(fftpack.ifftn(fftpack.ifftshift(star_fft/psf_fft)))\n",
    "\n",
    "sx, sy = 100, 100\n",
    "X, Y = np.ogrid[0:sx, 0:sy]\n",
    "star = stats.norm.pdf(np.sqrt((X - sx/2)**2 + (Y - sy/2)**2), 0, 4)\n",
    "psf = stats.norm.pdf(np.sqrt((X - sx/2)**2 + (Y - sy/2)**2), 0, 10)\n",
    "\n",
    "# star_conv = fftconvolve(star, psf, mode=\"same\")\n",
    "# star_deconv = fftdeconvolve(star_conv, psf, mode=\"same\")\n",
    "\n",
    "\n",
    "# star = img\n",
    "# psf = np.ones((512,512))/100000\n",
    "star_conv = _convolve(star, psf)\n",
    "star_deconv = _deconvolve(star_conv, psf)\n",
    "\n",
    "f, axes = plt.subplots(2,2)\n",
    "axes[0,0].imshow(star)\n",
    "axes[0,1].imshow(psf)\n",
    "axes[1,0].imshow(np.real(star_conv))\n",
    "axes[1,1].imshow(np.real(star_deconv))\n",
    "plt.show()"
   ]
  },
  {
   "cell_type": "code",
   "execution_count": null,
   "metadata": {
    "collapsed": true
   },
   "outputs": [],
   "source": [
    "# fig, ((ax1,ax2), (ax3,ax4)) = plt.subplots(nrows=2, ncols=2)\n",
    "# no_axis([ax1,ax2,ax3,ax4])\n",
    "# ax1.imshow(img)\n",
    "# ax2.imshow(blur_img)\n",
    "# ax3.imshow(blur_img_noise)\n",
    "# ax4.imshow(restoration.wiener(blur_img, psf, 10))\n",
    "# plt.show()"
   ]
  }
 ],
 "metadata": {
  "kernelspec": {
   "display_name": "Python 3",
   "language": "python",
   "name": "python3"
  },
  "language_info": {
   "codemirror_mode": {
    "name": "ipython",
    "version": 3
   },
   "file_extension": ".py",
   "mimetype": "text/x-python",
   "name": "python",
   "nbconvert_exporter": "python",
   "pygments_lexer": "ipython3",
   "version": "3.4.4"
  }
 },
 "nbformat": 4,
 "nbformat_minor": 1
}
