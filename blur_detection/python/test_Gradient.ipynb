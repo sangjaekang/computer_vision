{
 "cells": [
  {
   "cell_type": "code",
   "execution_count": 3,
   "metadata": {
    "collapsed": true
   },
   "outputs": [],
   "source": [
    "%matplotlib notebook\n",
    "import cv2\n",
    "import numpy as np\n",
    "from localBlur.likematlab import im2col, EM_GMM\n",
    "import matplotlib.pyplot as plt\n",
    "from scipy import stats"
   ]
  },
  {
   "cell_type": "markdown",
   "metadata": {},
   "source": [
    "### 이미지를 흑백으로 변환"
   ]
  },
  {
   "cell_type": "code",
   "execution_count": 4,
   "metadata": {
    "collapsed": true
   },
   "outputs": [],
   "source": [
    "img = cv2.imread('../image/out_of_focus0015.jpg', cv2.IMREAD_GRAYSCALE)\n",
    "img = cv2.normalize(img.astype('double'), None, 0.0, 1.0, cv2.NORM_MINMAX)"
   ]
  },
  {
   "cell_type": "code",
   "execution_count": 5,
   "metadata": {
    "collapsed": true
   },
   "outputs": [],
   "source": [
    "patchsize = 11"
   ]
  },
  {
   "cell_type": "markdown",
   "metadata": {},
   "source": [
    "### localBlurScore 부분"
   ]
  },
  {
   "cell_type": "code",
   "execution_count": 6,
   "metadata": {
    "collapsed": true
   },
   "outputs": [],
   "source": [
    "im_height, im_width = img.shape\n",
    "offset = int((patchsize -1)/2)\n",
    "x_start = offset+1; x_end = im_width-offset;\n",
    "y_start = offset+1; y_end = im_height-offset;\n",
    "datasize = (x_end-x_start+1)*(y_end-y_start+1)"
   ]
  },
  {
   "cell_type": "markdown",
   "metadata": {},
   "source": [
    "### GradientHistogramSpan 부분"
   ]
  },
  {
   "cell_type": "code",
   "execution_count": 7,
   "metadata": {
    "collapsed": true
   },
   "outputs": [],
   "source": [
    "im_height, im_width = img.shape\n",
    "offset = int((patchsize -1)/2)"
   ]
  },
  {
   "cell_type": "code",
   "execution_count": 8,
   "metadata": {
    "collapsed": true
   },
   "outputs": [],
   "source": [
    "dx = np.c_[np.diff(img),-img[:,-1]]\n",
    "dy = np.r_['0,2',np.diff(img,axis=0),-img[-1,:]]"
   ]
  },
  {
   "cell_type": "code",
   "execution_count": 9,
   "metadata": {
    "collapsed": true
   },
   "outputs": [],
   "source": [
    "mag = np.sqrt(np.square(dx) + np.square(dy))"
   ]
  },
  {
   "cell_type": "code",
   "execution_count": 10,
   "metadata": {
    "collapsed": true
   },
   "outputs": [],
   "source": [
    "mag_col = im2col(mag,[patchsize,patchsize])\n",
    "mag_col_dup = np.hstack((mag_col,-mag_col))"
   ]
  },
  {
   "cell_type": "code",
   "execution_count": 11,
   "metadata": {
    "collapsed": true
   },
   "outputs": [],
   "source": [
    "num = mag_col.shape[1]\n",
    "sigma1 = np.zeros((1,num))"
   ]
  },
  {
   "cell_type": "code",
   "execution_count": null,
   "metadata": {
    "collapsed": false
   },
   "outputs": [
    {
     "name": "stderr",
     "output_type": "stream",
     "text": [
      "C:\\Users\\sangjaekang123\\Desktop\\2017-1학기\\컴퓨터 비전\\project\\blur_detection\\python\\localBlur\\likematlab.py:48: RuntimeWarning: divide by zero encountered in true_divide\n",
      "  return np.exp(-(XxX)/(2*V)) / np.sqrt(2*np.pi*V)\n",
      "C:\\Users\\sangjaekang123\\Desktop\\2017-1학기\\컴퓨터 비전\\project\\blur_detection\\python\\localBlur\\likematlab.py:48: RuntimeWarning: invalid value encountered in true_divide\n",
      "  return np.exp(-(XxX)/(2*V)) / np.sqrt(2*np.pi*V)\n",
      "C:\\Users\\sangjaekang123\\Desktop\\2017-1학기\\컴퓨터 비전\\project\\blur_detection\\python\\localBlur\\likematlab.py:48: RuntimeWarning: overflow encountered in true_divide\n",
      "  return np.exp(-(XxX)/(2*V)) / np.sqrt(2*np.pi*V)\n"
     ]
    }
   ],
   "source": [
    "for i in range(num):\n",
    "    # time consuming 부분 \n",
    "    [V1,V2] = EM_GMM(mag_col_dup[:,i])\n",
    "    s0 = np.sqrt(V1)\n",
    "    s1 = np.sqrt(V2)\n",
    "    if s0 > s1 :\n",
    "        temp = s0; s0 = s1; s1 = temp\n",
    "    \n",
    "    sigma1[0,i] = s1"
   ]
  },
  {
   "cell_type": "markdown",
   "metadata": {},
   "source": [
    "위의 연산에서 시간을 엄청 잡아먹음 수정이 필요"
   ]
  },
  {
   "cell_type": "code",
   "execution_count": null,
   "metadata": {
    "collapsed": false
   },
   "outputs": [],
   "source": [
    "q = np.reshape(sigma1, [im_width-patchsize+1,im_height-patchsize+1])\n",
    "q = q[4:(im_width-patchsize+1-3),4:(im_height-patchsize+1-3)]\n",
    "q = np.pad(q,offset+3,'edge')"
   ]
  },
  {
   "cell_type": "code",
   "execution_count": null,
   "metadata": {
    "collapsed": false
   },
   "outputs": [],
   "source": [
    "q = np.transpose(q)\n",
    "plt.imshow(q)"
   ]
  }
 ],
 "metadata": {
  "anaconda-cloud": {},
  "kernelspec": {
   "display_name": "Python [default]",
   "language": "python",
   "name": "python3"
  },
  "language_info": {
   "codemirror_mode": {
    "name": "ipython",
    "version": 3
   },
   "file_extension": ".py",
   "mimetype": "text/x-python",
   "name": "python",
   "nbconvert_exporter": "python",
   "pygments_lexer": "ipython3",
   "version": "3.5.2"
  }
 },
 "nbformat": 4,
 "nbformat_minor": 1
}
